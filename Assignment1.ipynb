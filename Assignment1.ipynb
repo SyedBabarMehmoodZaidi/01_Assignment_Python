{
  "nbformat": 4,
  "nbformat_minor": 0,
  "metadata": {
    "colab": {
      "provenance": [],
      "authorship_tag": "ABX9TyOJfD062KZ6A3HoR2X/6QmS",
      "include_colab_link": true
    },
    "kernelspec": {
      "name": "python3",
      "display_name": "Python 3"
    },
    "language_info": {
      "name": "python"
    }
  },
  "cells": [
    {
      "cell_type": "markdown",
      "metadata": {
        "id": "view-in-github",
        "colab_type": "text"
      },
      "source": [
        "<a href=\"https://colab.research.google.com/github/SyedBabarMehmoodZaidi/01_Assignment_Python/blob/main/Assignment1.ipynb\" target=\"_parent\"><img src=\"https://colab.research.google.com/assets/colab-badge.svg\" alt=\"Open In Colab\"/></a>"
      ]
    },
    {
      "cell_type": "code",
      "source": [
        "# Simple Resume Builder in Python for Google Colab\n",
        "\n",
        "def build_resume():\n",
        "    print(\"Welcome to the GIAIC!\")\n",
        "\n",
        "    # Collecting user details\n",
        "    first_name = input(\"Enter your first name: \")\n",
        "    last_name = input(\"Enter your last name: \")\n",
        "    age = int(input(\"Enter your age: \"))\n",
        "    qualification = input(\"Enter your qualification: \")\n",
        "    experience = input(\"Enter your work experience: \")\n",
        "    skills = input(\"Enter your skills (comma separated): \")\n",
        "\n",
        "    # Formatting the resume\n",
        "    resume = f\"\"\"\n",
        "    =====================================\n",
        "               RESUME BUILDER\n",
        "    =====================================\n",
        "    Name          : {first_name} {last_name}\n",
        "    Age           : {age}\n",
        "    Qualification : {qualification}\n",
        "    Work Experience: {experience}\n",
        "    Skills        : {skills}\n",
        "    =====================================\n",
        "    \"\"\"\n",
        "    return resume\n",
        "\n",
        "# Build and display the resume\n",
        "resume_text = build_resume()\n",
        "print(resume_text)\n",
        "\n",
        "# Optionally, save the resume to a text file\n",
        "with open(\"resume.txt\", \"w\") as file:\n",
        "    file.write(resume_text)\n",
        "\n",
        "print(\"Your resume has been saved as 'resume.txt'.\")\n"
      ],
      "metadata": {
        "colab": {
          "base_uri": "https://localhost:8080/"
        },
        "id": "7kzNrafL6CYv",
        "outputId": "774c47f3-ecb0-4447-d0c1-208e32aae054"
      },
      "execution_count": 6,
      "outputs": [
        {
          "output_type": "stream",
          "name": "stdout",
          "text": [
            "Welcome to the Resume Builder!\n",
            "Enter your first name: BABAR\n",
            "Enter your last name: MEHMOOD\n",
            "Enter your age: 25\n",
            "Enter your qualification: GRADUATED\n",
            "Enter your work experience: 1 YEAR\n",
            "Enter your skills (comma separated): EXPERT IN WEB DEVELOPMENT\n",
            "\n",
            "    =====================================\n",
            "                  RESUME\n",
            "    =====================================\n",
            "    Name          : BABAR MEHMOOD\n",
            "    Age           : 25\n",
            "    Qualification : GRADUATED\n",
            "    Work Experience: 1 YEAR\n",
            "    Skills        : EXPERT IN WEB DEVELOPMENT\n",
            "    =====================================\n",
            "    \n",
            "Your resume has been saved as 'resume.txt'.\n"
          ]
        }
      ]
    }
  ]
}